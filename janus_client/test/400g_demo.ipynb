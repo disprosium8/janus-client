{
 "cells": [
  {
   "cell_type": "code",
   "execution_count": 23,
   "id": "f4c19c03-3094-4477-be18-099323c5d998",
   "metadata": {},
   "outputs": [
    {
     "name": "stdout",
     "output_type": "stream",
     "text": [
      "id: 90d02619-5ac6-45b6-ba49-65680467e542\n",
      "allocated: False\n",
      "requests: [{'instances': ['nersc-tbn-6'], 'image': 'dtnaas/ofed:5.4-3', 'profile': 'lbnl-400g-1', 'kwargs': {'USER_NAME': 'kissel', 'PUBLIC_KEY': 'ssh-rsa AAAAB3NzaC1yc2EAAAADAQABAAABAQC/DAAkHubwAfjOSVG67tvwvUrESRoig+OAk5htH0mLK7QaN4gTv/C3ritJH3PkRzIJyOAJVS1ssjiBtMpI8Lb8NZCYKDZdpH/803cPpd2KqI2oAWRZQcjamKYs6SlM9r380wZ069r143ldaWPU3CJ6ye2+yx0Gifdivutnk5eQ1DxdK/VbukMzWeDdO8T1QXHxqP6lRy5PUkDKlY6Ec8i8YLYijhBoMlK0NL23d9ZDrVFKYe4D9OBp0CCKzkz9a7qgLOoYvCGRzN7BXIztJkYzziFAYn4Ru0RTyHM81V8jp4H0E2EM7BDtUUBac/sk7pJS7w2rIRZtPDsFA7qFvw+1 dtnaas@a83afe25e688'}}, {'instances': ['nersc-tbn-7'], 'image': 'dtnaas/ofed:5.4-3', 'profile': 'lbnl-400g-2', 'kwargs': {'USER_NAME': 'kissel', 'PUBLIC_KEY': 'ssh-rsa AAAAB3NzaC1yc2EAAAADAQABAAABAQC/DAAkHubwAfjOSVG67tvwvUrESRoig+OAk5htH0mLK7QaN4gTv/C3ritJH3PkRzIJyOAJVS1ssjiBtMpI8Lb8NZCYKDZdpH/803cPpd2KqI2oAWRZQcjamKYs6SlM9r380wZ069r143ldaWPU3CJ6ye2+yx0Gifdivutnk5eQ1DxdK/VbukMzWeDdO8T1QXHxqP6lRy5PUkDKlY6Ec8i8YLYijhBoMlK0NL23d9ZDrVFKYe4D9OBp0CCKzkz9a7qgLOoYvCGRzN7BXIztJkYzziFAYn4Ru0RTyHM81V8jp4H0E2EM7BDtUUBac/sk7pJS7w2rIRZtPDsFA7qFvw+1 dtnaas@a83afe25e688'}}]\n",
      "manifest: {}\n",
      "state: CREATED\n",
      "\n",
      "id: 2ec59d28-20e7-4ec7-8e3f-62438f54874f\n",
      "allocated: False\n",
      "requests: [{'instances': ['nersc-srv-1'], 'image': 'dtnaas/ofed:5.4-3', 'profile': 'lbnl-400g-1', 'kwargs': {'USER_NAME': 'kissel', 'PUBLIC_KEY': 'ssh-rsa AAAAB3NzaC1yc2EAAAADAQABAAABAQC/DAAkHubwAfjOSVG67tvwvUrESRoig+OAk5htH0mLK7QaN4gTv/C3ritJH3PkRzIJyOAJVS1ssjiBtMpI8Lb8NZCYKDZdpH/803cPpd2KqI2oAWRZQcjamKYs6SlM9r380wZ069r143ldaWPU3CJ6ye2+yx0Gifdivutnk5eQ1DxdK/VbukMzWeDdO8T1QXHxqP6lRy5PUkDKlY6Ec8i8YLYijhBoMlK0NL23d9ZDrVFKYe4D9OBp0CCKzkz9a7qgLOoYvCGRzN7BXIztJkYzziFAYn4Ru0RTyHM81V8jp4H0E2EM7BDtUUBac/sk7pJS7w2rIRZtPDsFA7qFvw+1 dtnaas@a83afe25e688'}}, {'instances': ['nersc-dtnaas-1'], 'image': 'dtnaas/ofed:5.4-3', 'profile': 'lbnl-400g-2', 'kwargs': {'USER_NAME': 'kissel', 'PUBLIC_KEY': 'ssh-rsa AAAAB3NzaC1yc2EAAAADAQABAAABAQC/DAAkHubwAfjOSVG67tvwvUrESRoig+OAk5htH0mLK7QaN4gTv/C3ritJH3PkRzIJyOAJVS1ssjiBtMpI8Lb8NZCYKDZdpH/803cPpd2KqI2oAWRZQcjamKYs6SlM9r380wZ069r143ldaWPU3CJ6ye2+yx0Gifdivutnk5eQ1DxdK/VbukMzWeDdO8T1QXHxqP6lRy5PUkDKlY6Ec8i8YLYijhBoMlK0NL23d9ZDrVFKYe4D9OBp0CCKzkz9a7qgLOoYvCGRzN7BXIztJkYzziFAYn4Ru0RTyHM81V8jp4H0E2EM7BDtUUBac/sk7pJS7w2rIRZtPDsFA7qFvw+1 dtnaas@a83afe25e688'}}]\n",
      "manifest: {}\n",
      "state: CREATED\n",
      "\n",
      "id: 05f6455d-78af-45e6-b704-a58456209a31\n",
      "allocated: False\n",
      "requests: [{'instances': ['nersc-tbn-1', 'nersc-tbn-2'], 'image': 'dtnaas/tools', 'profile': 'lbnl-400g-host', 'kwargs': {'USER_NAME': 'kissel', 'PUBLIC_KEY': 'ssh-rsa AAAAB3NzaC1yc2EAAAADAQABAAABAQC/DAAkHubwAfjOSVG67tvwvUrESRoig+OAk5htH0mLK7QaN4gTv/C3ritJH3PkRzIJyOAJVS1ssjiBtMpI8Lb8NZCYKDZdpH/803cPpd2KqI2oAWRZQcjamKYs6SlM9r380wZ069r143ldaWPU3CJ6ye2+yx0Gifdivutnk5eQ1DxdK/VbukMzWeDdO8T1QXHxqP6lRy5PUkDKlY6Ec8i8YLYijhBoMlK0NL23d9ZDrVFKYe4D9OBp0CCKzkz9a7qgLOoYvCGRzN7BXIztJkYzziFAYn4Ru0RTyHM81V8jp4H0E2EM7BDtUUBac/sk7pJS7w2rIRZtPDsFA7qFvw+1 dtnaas@a83afe25e688'}}]\n",
      "manifest: {}\n",
      "state: CREATED\n"
     ]
    }
   ],
   "source": [
    "import time\n",
    "from janus_client import Client, Session, Service\n",
    "\n",
    "from FHGDemo import setup, run_workflow\n",
    "\n",
    "JANUS_URL=\"https://nersc-srv-1.testbed100.es.net:5050\"\n",
    "\n",
    "user = 'kissel'\n",
    "mykey = 'ssh-rsa AAAAB3NzaC1yc2EAAAADAQABAAABAQC/DAAkHubwAfjOSVG67tvwvUrESRoig+OAk5htH0mLK7QaN4gTv/C3ritJH3PkRzIJyOAJVS1ssjiBtMpI8Lb8NZCYKDZdpH/803cPpd2KqI2oAWRZQcjamKYs6SlM9r380wZ069r143ldaWPU3CJ6ye2+yx0Gifdivutnk5eQ1DxdK/VbukMzWeDdO8T1QXHxqP6lRy5PUkDKlY6Ec8i8YLYijhBoMlK0NL23d9ZDrVFKYe4D9OBp0CCKzkz9a7qgLOoYvCGRzN7BXIztJkYzziFAYn4Ru0RTyHM81V8jp4H0E2EM7BDtUUBac/sk7pJS7w2rIRZtPDsFA7qFvw+1 dtnaas@a83afe25e688'\n",
    "\n",
    "client = Client(JANUS_URL, auth=(user, 'd3m0p4ss'))\n",
    "\n",
    "\n",
    "sess_rdma1 = client.getSession()\n",
    "srv1 = Service(instances=['nersc-tbn-6'], image='dtnaas/ofed:5.4-3', profile='lbnl-400g-1', username=user, public_key=mykey)\n",
    "srv2 = Service(instances=['nersc-tbn-7'], image='dtnaas/ofed:5.4-3', profile='lbnl-400g-2', username=user, public_key=mykey)\n",
    "sess_rdma1.addService(srv1)\n",
    "sess_rdma1.addService(srv2)\n",
    "\n",
    "\n",
    "sess_rdma2 = client.getSession()\n",
    "srv1 = Service(instances=['nersc-srv-1'], image='dtnaas/ofed:5.4-3', profile='lbnl-400g-1', username=user, public_key=mykey)\n",
    "srv2 = Service(instances=['nersc-dtnaas-1'], image='dtnaas/ofed:5.4-3', profile='lbnl-400g-2', username=user, public_key=mykey)\n",
    "sess_rdma2.addService(srv1)\n",
    "sess_rdma2.addService(srv2)\n",
    "\n",
    "sess_escp = client.getSession()\n",
    "srv = Service(instances=['nersc-tbn-1', 'nersc-tbn-2'],\n",
    "              image='dtnaas/tools',\n",
    "              profile='lbnl-400g-host',\n",
    "              username=user,\n",
    "              public_key=mykey)\n",
    "sess_escp.addService(srv)\n",
    "\n",
    "print (f\"{sess_rdma1}\\n\\n{sess_rdma2}\\n\\n{sess_escp}\")\n"
   ]
  },
  {
   "cell_type": "code",
   "execution_count": 24,
   "id": "bbff7b7f-bc85-4d33-bbf6-16cceee77203",
   "metadata": {},
   "outputs": [
    {
     "name": "stdout",
     "output_type": "stream",
     "text": [
      "id: 46, service: nersc-tbn-6, errors: []\n",
      "id: 46, service: nersc-tbn-7, errors: []\n",
      "\n",
      "id: 47, service: nersc-srv-1, errors: []\n",
      "id: 47, service: nersc-dtnaas-1, errors: []\n",
      "\n",
      "id: 48, service: nersc-tbn-1, errors: []\n",
      "id: 48, service: nersc-tbn-2, errors: []\n",
      "\n"
     ]
    }
   ],
   "source": [
    "res = sess_rdma1.start()\n",
    "print (sess_rdma1.status())\n",
    "\n",
    "res = sess_rdma2.start()\n",
    "print (sess_rdma2.status())\n",
    "\n",
    "res = sess_escp.start()\n",
    "print (sess_escp.status())"
   ]
  },
  {
   "cell_type": "code",
   "execution_count": 25,
   "id": "e43178a1-9887-4a9d-baa1-091f5dd0c481",
   "metadata": {},
   "outputs": [
    {
     "name": "stdout",
     "output_type": "stream",
     "text": [
      "-- RDMA Src Endpoints:\n",
      "nersc-tbn-6: nersc-tbn-6.testbed100.es.net:30000\n",
      "nersc-tbn-7: nersc-tbn-7.testbed100.es.net:30001\n",
      "-- RDMA Dst Endpoints:\n",
      "nersc-srv-1: nersc-srv-1.testbed100.es.net:30000\n",
      "nersc-dtnaas-1: nersc-dtnaas-1.testbed100.es.net:30001\n",
      "-- ESCP Endpoints:\n",
      "nersc-tbn-1: nersc-tbn-1.testbed100.es.net:30000\n",
      "nersc-tbn-2: nersc-tbn-2.testbed100.es.net:30001\n"
     ]
    }
   ],
   "source": [
    "print (f\"-- RDMA Src Endpoints:\\n{sess_rdma1.endpoints()}\")\n",
    "print (f\"-- RDMA Dst Endpoints:\\n{sess_rdma2.endpoints()}\")\n",
    "print (f\"-- ESCP Endpoints:\\n{sess_escp.endpoints()}\")"
   ]
  },
  {
   "cell_type": "code",
   "execution_count": 42,
   "id": "16cc318e-6bc7-4e6a-833e-b0ea8588e5f6",
   "metadata": {
    "tags": []
   },
   "outputs": [
    {
     "data": {
      "text/plain": [
       "'Display in main thread'"
      ]
     },
     "metadata": {},
     "output_type": "display_data"
    },
    {
     "data": {
      "application/vnd.jupyter.widget-view+json": {
       "model_id": "8440fc19b4624c50b7685aa0961fc3e8",
       "version_major": 2,
       "version_minor": 0
      },
      "text/plain": [
       "Output()"
      ]
     },
     "metadata": {},
     "output_type": "display_data"
    }
   ],
   "source": [
    "import sys\n",
    "import time\n",
    "import logging\n",
    "import subprocess\n",
    "import threading\n",
    "from IPython.display import display\n",
    "import ipywidgets as widgets\n",
    "from subprocess import PIPE, STDOUT\n",
    "from ipaddress import IPv4Network, IPv4Address\n",
    "\n",
    "\n",
    "log = logging.getLogger(\"FHGDemo\")\n",
    "log.setLevel(logging.INFO)\n",
    "\n",
    "def run_host_cmd(host, cmd, ofname=None, stop=None, interactive=False, out=None):\n",
    "    log.debug(f\"Running \\\"{cmd}\\\" on \\\"{host}\\\", with output to file \\\"{ofname}\\\"\")\n",
    "    parts = host.split(\":\")\n",
    "    if len(parts) > 1:\n",
    "        initcmd = [\"ssh\", \"-t\", \"-o\", \"StrictHostKeyChecking=no\", \"-p\", parts[1], parts[0]]\n",
    "    else:\n",
    "        initcmd = [\"ssh\", \"-t\", \"-o\", \"StrictHostKeyChecking=no\", host]\n",
    "    rcmd = initcmd + cmd.split(\" \")\n",
    "    log.debug(rcmd)\n",
    "    try:\n",
    "        proc = subprocess.Popen(rcmd, stdout=PIPE)\n",
    "        if interactive:\n",
    "            for p in proc.stdout:\n",
    "                if out:\n",
    "                    out.append_stdout(p.decode('utf-8'))\n",
    "                else:\n",
    "                    print (p.decode('utf-8'), end='')\n",
    "    except Exception as e:\n",
    "        log.info(f\"Error running {rcmd}: {e}\")\n",
    "        return\n",
    "    outs = None\n",
    "    errs = None\n",
    "    if stop:\n",
    "        while not stop():\n",
    "            time.sleep(1)\n",
    "        proc.terminate()\n",
    "        try:\n",
    "            proc.wait(timeout=2)\n",
    "        except TimeoutExpired:\n",
    "            proc.kill()\n",
    "    else:\n",
    "        outs, errs = proc.communicate()\n",
    "        proc.terminate()\n",
    "\n",
    "    if not ofname:\n",
    "        return\n",
    "    try:\n",
    "        f = open(ofname, 'wb')\n",
    "        if not outs:\n",
    "            outs = proc.stdout.read()\n",
    "        f.write(outs)\n",
    "        f.close()\n",
    "    except Exception as e:\n",
    "        log.error(f\"Could not write output for \\\"{ofname}\\\": {e}\")\n",
    "        return\n",
    "\n",
    "def setup(sess):\n",
    "    res = sess.status().json()[0]\n",
    "    for idx,ep in sess.endpoints().json().items():\n",
    "        for k,v in res.items():\n",
    "            if idx in v['services']:\n",
    "                svc = v['services'][idx][0]\n",
    "                try:\n",
    "                    v4net = IPv4Network(svc['data_ipv4']+'/24', strict=False)\n",
    "                    cmd = None\n",
    "                    if str(v4net[1]) == \"10.33.1.1\":\n",
    "                        cmd = \"sudo route add -net 10.33.2.0/24 gw 10.33.1.1\"\n",
    "                        sess.dst = ep\n",
    "                        sess.dst_ip = svc['data_ipv4']\n",
    "                        sess.dst_gw = \"10.33.1.1\"\n",
    "                    elif str(v4net[1]) == \"10.33.2.1\":\n",
    "                        cmd = \"sudo route add -net 10.33.1.0/24 gw 10.33.2.1\"\n",
    "                        sess.src = ep\n",
    "                        sess.src_ip = svc['data_ipv4']\n",
    "                        sess.src_gw = \"10.33.2.1\"\n",
    "                    if cmd:\n",
    "                        run_host_cmd(ep, cmd)\n",
    "                except:\n",
    "                    continue\n",
    "\n",
    "def run_workflow(sess):\n",
    "    out = widgets.Output()\n",
    "    display(out)\n",
    "    #out.append_stdout(f\"Running workflow on {sess.src} and {sess.dst}\")\n",
    "    if getattr(sess, \"src\"):\n",
    "        dst_cmd = f\"ping -c 2 {sess.src_gw}; xfer_test -s -r -d 128\"\n",
    "        dst_thr = threading.Thread(target=run_host_cmd, args=(sess.dst, dst_cmd))\n",
    "        src_cmd = f\"ping -c 2 {sess.dst_gw}; stdbuf -oL xfer_test -c {sess.dst_ip} -t 12000 -i 5 -r -a 1 -o 24 -d 112\"\n",
    "        src_thr = threading.Thread(target=run_host_cmd, args=(sess.src, src_cmd, None, None, True, out))\n",
    "        dst_thr.start()\n",
    "        time.sleep(1)\n",
    "        src_thr.start()\n",
    "        return [src_thr, dst_thr]\n",
    "\n",
    "#setup(sess_rdma1)\n",
    "#setup(sess_rdma2)\n",
    "#setup(sess_escp)\n",
    "\n",
    "display('Display in main thread')\n",
    "ret = run_workflow(sess_rdma1)\n",
    "#setup(sess_rdma1)\n",
    "#setup(sess_rdma2)\n",
    "#setup(sess_escp)"
   ]
  },
  {
   "cell_type": "code",
   "execution_count": 43,
   "id": "b7b327c2-2ab7-44ed-9e83-e5b3e188bced",
   "metadata": {
    "scrolled": true,
    "tags": []
   },
   "outputs": [
    {
     "data": {
      "application/vnd.jupyter.widget-view+json": {
       "model_id": "f64deb8a57174d64ae2a60ca1647a8b0",
       "version_major": 2,
       "version_minor": 0
      },
      "text/plain": [
       "Output()"
      ]
     },
     "metadata": {},
     "output_type": "display_data"
    },
    {
     "data": {
      "text/plain": [
       "[<Thread(Thread-37, started 139715890116160)>,\n",
       " <Thread(Thread-36, started 139716451870272)>]"
      ]
     },
     "execution_count": 43,
     "metadata": {},
     "output_type": "execute_result"
    }
   ],
   "source": [
    "run_workflow(sess_rdma1)"
   ]
  },
  {
   "cell_type": "code",
   "execution_count": null,
   "id": "d7635e44-7161-4fdc-9389-eb21e8585bc7",
   "metadata": {},
   "outputs": [],
   "source": []
  },
  {
   "cell_type": "code",
   "execution_count": 19,
   "id": "6cdb8302-d467-4ad7-bb20-6f49abb52ef8",
   "metadata": {},
   "outputs": [
    {
     "data": {
      "text/plain": [
       "[<Thread(Thread-11, started 139715881723456)>,\n",
       " <Thread(Thread-10, started 139716443477568)>]"
      ]
     },
     "execution_count": 19,
     "metadata": {},
     "output_type": "execute_result"
    },
    {
     "name": "stdout",
     "output_type": "stream",
     "text": [
      "PING 10.33.1.1 (10.33.1.1) 56(84) bytes of data.\n",
      "64 bytes from 10.33.1.1: icmp_seq=1 ttl=64 time=88.4 ms\n",
      "[30.0-35.0 sec]\t      58.25 GB\t      93.20 Gb/s\n",
      "64 bytes from 10.33.1.1: icmp_seq=2 ttl=64 time=44.2 ms\n",
      "\n",
      "--- 10.33.1.1 ping statistics ---\n",
      "2 packets transmitted, 2 received, 0% packet loss, time 2ms\n",
      "rtt min/avg/max/mdev = 44.157/66.254/88.352/22.098 ms\n",
      "Using a SLaBS buffer of size 16777216 with 1 partitions of size 16777216\n",
      "112: | port=18515 | ib_port=1 | tx_depth=112 | sl=0 | duplex=0 | cma=1 |\n",
      "Created SLAB buffer with SIZE: 16777216 PARTITIONS: 1\n",
      "raddr: 0x7f0892bfe000, laddr: 0x7f98a6fe6000, size: 16777216\n",
      "Metadata exchange complete\n",
      "[35.0-40.0 sec]\t      58.25 GB\t      93.20 Gb/s\n",
      "[0.0-5.0 sec]\t      93.83 GB\t     150.13 Gb/s\n",
      "[40.0-45.0 sec]\t      58.25 GB\t      93.20 Gb/s\n",
      "[5.0-10.0 sec]\t     105.68 GB\t     169.09 Gb/s\n",
      "[45.0-50.0 sec]\t      58.25 GB\t      93.20 Gb/s\n",
      "[10.0-15.0 sec]\t     105.68 GB\t     169.09 Gb/s\n",
      "[50.0-55.0 sec]\t      58.25 GB\t      93.20 Gb/s\n",
      "[15.0-20.0 sec]\t     105.68 GB\t     169.09 Gb/s\n",
      "[55.0-60.0 sec]\t      58.23 GB\t      93.17 Gb/s\n",
      "[20.0-25.0 sec]\t     105.71 GB\t     169.14 Gb/s\n",
      "[60.0-65.0 sec]\t      58.25 GB\t      93.20 Gb/s\n",
      "[25.0-30.0 sec]\t     105.66 GB\t     169.06 Gb/s\n",
      "[65.0-70.0 sec]\t      58.23 GB\t      93.17 Gb/s\n",
      "[30.0-35.0 sec]\t     105.70 GB\t     169.11 Gb/s\n",
      "[70.0-75.0 sec]\t      58.25 GB\t      93.20 Gb/s\n",
      "[35.0-40.0 sec]\t     105.68 GB\t     169.09 Gb/s\n",
      "[75.0-80.0 sec]\t      58.23 GB\t      93.17 Gb/s\n",
      "[40.0-45.0 sec]\t      39.49 GB\t      63.19 Gb/s\n",
      "[80.0-85.0 sec]\t      58.25 GB\t      93.20 Gb/s\n",
      "[45.0-50.0 sec]\t     251.66 MB\t     402.65 Mb/s\n",
      "[85.0-90.0 sec]\t      58.25 GB\t      93.20 Gb/s\n",
      "[50.0-55.0 sec]\t     234.88 MB\t     375.80 Mb/s\n",
      "[90.0-95.0 sec]\t      58.23 GB\t      93.17 Gb/s\n",
      "[55.0-60.0 sec]\t     234.88 MB\t     375.81 Mb/s\n",
      "[95.0-100.0 sec]\t      58.23 GB\t      93.17 Gb/s\n",
      "[60.0-65.0 sec]\t     251.66 MB\t     402.65 Mb/s\n",
      "[100.0-105.0 sec]\t      58.23 GB\t      93.17 Gb/s\n",
      "[65.0-70.0 sec]\t     234.88 MB\t     375.80 Mb/s\n",
      "[105.0-110.0 sec]\t      58.23 GB\t      93.17 Gb/s\n"
     ]
    }
   ],
   "source": [
    "run_workflow(sess_rdma2) "
   ]
  },
  {
   "cell_type": "code",
   "execution_count": null,
   "id": "8e534227-e914-4c51-9568-22946fdafaf2",
   "metadata": {},
   "outputs": [],
   "source": [
    "run_workflow(sess_escp)"
   ]
  },
  {
   "cell_type": "code",
   "execution_count": null,
   "id": "7b5a4d77-93cc-4893-84af-cd27bec5ff85",
   "metadata": {},
   "outputs": [],
   "source": [
    "sess_rdma1.stop()\n",
    "sess_rdma2.stop()\n",
    "sess_escp.stop()"
   ]
  },
  {
   "cell_type": "code",
   "execution_count": 20,
   "id": "5b353183-c17e-461b-bfd8-3701949bc422",
   "metadata": {},
   "outputs": [
    {
     "name": "stdout",
     "output_type": "stream",
     "text": [
      "[70.0-75.0 sec]\t     251.66 MB\t     402.65 Mb/s\n",
      "[75.0-80.0 sec]\t     234.88 MB\t     375.81 Mb/s\n",
      "[80.0-85.0 sec]\t     234.88 MB\t     375.81 Mb/s\n"
     ]
    }
   ],
   "source": [
    "sess_rdma1.destroy()\n",
    "sess_rdma2.destroy()\n",
    "sess_escp.destroy()"
   ]
  },
  {
   "cell_type": "code",
   "execution_count": null,
   "id": "fc463e45-01d1-4b3d-9a12-49396f9421c1",
   "metadata": {},
   "outputs": [],
   "source": []
  }
 ],
 "metadata": {
  "kernelspec": {
   "display_name": "Python 3",
   "language": "python",
   "name": "python3"
  },
  "language_info": {
   "codemirror_mode": {
    "name": "ipython",
    "version": 3
   },
   "file_extension": ".py",
   "mimetype": "text/x-python",
   "name": "python",
   "nbconvert_exporter": "python",
   "pygments_lexer": "ipython3",
   "version": "3.9.2"
  }
 },
 "nbformat": 4,
 "nbformat_minor": 5
}
