{
 "cells": [
  {
   "cell_type": "markdown",
   "id": "ad38e507-853a-4fe2-b9ce-db2bb1e8e412",
   "metadata": {
    "tags": []
   },
   "source": [
    "## Initialization\n",
    " * Import Janus Client modules\n",
    " * Setup client parameter (controller URL, user, ssh key, etc.)\n",
    " * Create a client instance\n",
    " * Create sessions for each demo job\n",
    " * Attach services to each session (host/container/profile mapping)"
   ]
  },
  {
   "cell_type": "markdown",
   "id": "f7b29472-ce81-4158-b0c9-02f042a35ad9",
   "metadata": {
    "tags": []
   },
   "source": [
    "### Profile definition example\n",
    " * 400g-demo.yaml\n",
    " * This, along with other profiles, are maintained on the Janus controller node\n",
    "  \n",
    "```yaml\n",
    "features:\n",
    "  rdma-demo:\n",
    "    devices:\n",
    "      - devprefix: \"/dev/infiniband\"\n",
    "        names:\n",
    "          - rdma_cm\n",
    "          - uverbs\n",
    "    caps:\n",
    "      - IPC_LOCK\n",
    "      - NET_ADMIN\n",
    "    limits:\n",
    "      - Name: memlock\n",
    "        Soft: -1\n",
    "        Hard: -1\n",
    "\n",
    "profiles:\n",
    "  lbnl-400g-1:\n",
    "    cpu: 4\n",
    "    affinity: network\n",
    "    serv_port_range: null\n",
    "    mgmt_net: bridge\n",
    "    data_net:\n",
    "      name: net3001_eth200\n",
    "      ipv4_addr:\n",
    "        - 10.33.1.20\n",
    "        - 10.33.1.21\n",
    "    features:\n",
    "      - rdma-demo\n",
    "    privileged: false\n",
    "\n",
    "  lbnl-400g-2:\n",
    "    cpu: 4\n",
    "    affinity: network\n",
    "    serv_port_range: null\n",
    "    mgmt_net: bridge\n",
    "    data_net:\n",
    "      name: net3002_eth200\n",
    "      ipv4_addr:\n",
    "        - 10.33.2.20\n",
    "        - 10.33.2.21\n",
    "    features:\n",
    "      - rdma-demo\n",
    "    privileged: false\n",
    "\n",
    "  lbnl-400g-host:\n",
    "    cpu: null\n",
    "    mem: null\n",
    "    serv_port_range: null\n",
    "    mgmt_net: host\n",
    "    privileged: false\n",
    "    volumes:\n",
    "      - data\n",
    "      - tmp\n",
    "      - proc\n",
    "```"
   ]
  },
  {
   "cell_type": "code",
   "execution_count": 1,
   "id": "f4c19c03-3094-4477-be18-099323c5d998",
   "metadata": {},
   "outputs": [
    {
     "name": "stdout",
     "output_type": "stream",
     "text": [
      "id: 90bf2afa-6472-401f-820c-cd0e38707820\n",
      "allocated: False\n",
      "requests: [{'instances': ['nersc-tbn-6'], 'image': 'dtnaas/ofed:5.4-3', 'profile': 'lbnl-400g-1', 'kwargs': {'USER_NAME': 'kissel', 'PUBLIC_KEY': 'ssh-rsa AAAAB3NzaC1yc2EAAAADAQABAAABAQC/DAAkHubwAfjOSVG67tvwvUrESRoig+OAk5htH0mLK7QaN4gTv/C3ritJH3PkRzIJyOAJVS1ssjiBtMpI8Lb8NZCYKDZdpH/803cPpd2KqI2oAWRZQcjamKYs6SlM9r380wZ069r143ldaWPU3CJ6ye2+yx0Gifdivutnk5eQ1DxdK/VbukMzWeDdO8T1QXHxqP6lRy5PUkDKlY6Ec8i8YLYijhBoMlK0NL23d9ZDrVFKYe4D9OBp0CCKzkz9a7qgLOoYvCGRzN7BXIztJkYzziFAYn4Ru0RTyHM81V8jp4H0E2EM7BDtUUBac/sk7pJS7w2rIRZtPDsFA7qFvw+1 dtnaas@a83afe25e688'}}, {'instances': ['nersc-tbn-7'], 'image': 'dtnaas/ofed:5.4-3', 'profile': 'lbnl-400g-2', 'kwargs': {'USER_NAME': 'kissel', 'PUBLIC_KEY': 'ssh-rsa AAAAB3NzaC1yc2EAAAADAQABAAABAQC/DAAkHubwAfjOSVG67tvwvUrESRoig+OAk5htH0mLK7QaN4gTv/C3ritJH3PkRzIJyOAJVS1ssjiBtMpI8Lb8NZCYKDZdpH/803cPpd2KqI2oAWRZQcjamKYs6SlM9r380wZ069r143ldaWPU3CJ6ye2+yx0Gifdivutnk5eQ1DxdK/VbukMzWeDdO8T1QXHxqP6lRy5PUkDKlY6Ec8i8YLYijhBoMlK0NL23d9ZDrVFKYe4D9OBp0CCKzkz9a7qgLOoYvCGRzN7BXIztJkYzziFAYn4Ru0RTyHM81V8jp4H0E2EM7BDtUUBac/sk7pJS7w2rIRZtPDsFA7qFvw+1 dtnaas@a83afe25e688'}}]\n",
      "manifest: {}\n",
      "state: CREATED\n",
      "\n",
      "id: 005a6473-3d8e-441e-b7b5-6350fa3554f1\n",
      "allocated: False\n",
      "requests: [{'instances': ['nersc-srv-1'], 'image': 'dtnaas/ofed:5.4-3', 'profile': 'lbnl-400g-1', 'kwargs': {'USER_NAME': 'kissel', 'PUBLIC_KEY': 'ssh-rsa AAAAB3NzaC1yc2EAAAADAQABAAABAQC/DAAkHubwAfjOSVG67tvwvUrESRoig+OAk5htH0mLK7QaN4gTv/C3ritJH3PkRzIJyOAJVS1ssjiBtMpI8Lb8NZCYKDZdpH/803cPpd2KqI2oAWRZQcjamKYs6SlM9r380wZ069r143ldaWPU3CJ6ye2+yx0Gifdivutnk5eQ1DxdK/VbukMzWeDdO8T1QXHxqP6lRy5PUkDKlY6Ec8i8YLYijhBoMlK0NL23d9ZDrVFKYe4D9OBp0CCKzkz9a7qgLOoYvCGRzN7BXIztJkYzziFAYn4Ru0RTyHM81V8jp4H0E2EM7BDtUUBac/sk7pJS7w2rIRZtPDsFA7qFvw+1 dtnaas@a83afe25e688'}}, {'instances': ['nersc-dtnaas-1'], 'image': 'dtnaas/ofed:5.4-3', 'profile': 'lbnl-400g-2', 'kwargs': {'USER_NAME': 'kissel', 'PUBLIC_KEY': 'ssh-rsa AAAAB3NzaC1yc2EAAAADAQABAAABAQC/DAAkHubwAfjOSVG67tvwvUrESRoig+OAk5htH0mLK7QaN4gTv/C3ritJH3PkRzIJyOAJVS1ssjiBtMpI8Lb8NZCYKDZdpH/803cPpd2KqI2oAWRZQcjamKYs6SlM9r380wZ069r143ldaWPU3CJ6ye2+yx0Gifdivutnk5eQ1DxdK/VbukMzWeDdO8T1QXHxqP6lRy5PUkDKlY6Ec8i8YLYijhBoMlK0NL23d9ZDrVFKYe4D9OBp0CCKzkz9a7qgLOoYvCGRzN7BXIztJkYzziFAYn4Ru0RTyHM81V8jp4H0E2EM7BDtUUBac/sk7pJS7w2rIRZtPDsFA7qFvw+1 dtnaas@a83afe25e688'}}]\n",
      "manifest: {}\n",
      "state: CREATED\n",
      "\n",
      "id: 0b41753d-2c86-47f5-a3d9-c7380af5dd52\n",
      "allocated: False\n",
      "requests: [{'instances': ['nersc-tbn-1', 'nersc-tbn-2'], 'image': 'dtnaas/tools:latest', 'profile': 'lbnl-400g-host', 'kwargs': {'USER_NAME': 'kissel', 'PUBLIC_KEY': 'ssh-rsa AAAAB3NzaC1yc2EAAAADAQABAAABAQC/DAAkHubwAfjOSVG67tvwvUrESRoig+OAk5htH0mLK7QaN4gTv/C3ritJH3PkRzIJyOAJVS1ssjiBtMpI8Lb8NZCYKDZdpH/803cPpd2KqI2oAWRZQcjamKYs6SlM9r380wZ069r143ldaWPU3CJ6ye2+yx0Gifdivutnk5eQ1DxdK/VbukMzWeDdO8T1QXHxqP6lRy5PUkDKlY6Ec8i8YLYijhBoMlK0NL23d9ZDrVFKYe4D9OBp0CCKzkz9a7qgLOoYvCGRzN7BXIztJkYzziFAYn4Ru0RTyHM81V8jp4H0E2EM7BDtUUBac/sk7pJS7w2rIRZtPDsFA7qFvw+1 dtnaas@a83afe25e688'}}]\n",
      "manifest: {}\n",
      "state: CREATED\n"
     ]
    }
   ],
   "source": [
    "import time\n",
    "from janus_client import Client, Session, Service\n",
    "from ESCPeval import setup, run_job, stop_job\n",
    "\n",
    "\n",
    "JANUS_URL=\"https://nersc-srv-1.testbed100.es.net:5050\"\n",
    "\n",
    "user = 'kissel'\n",
    "mykey = 'ssh-rsa AAAAB3NzaC1yc2EAAAADAQABAAABAQC/DAAkHubwAfjOSVG67tvwvUrESRoig+OAk5htH0mLK7QaN4gTv/C3ritJH3PkRzIJyOAJVS1ssjiBtMpI8Lb8NZCYKDZdpH/803cPpd2KqI2oAWRZQcjamKYs6SlM9r380wZ069r143ldaWPU3CJ6ye2+yx0Gifdivutnk5eQ1DxdK/VbukMzWeDdO8T1QXHxqP6lRy5PUkDKlY6Ec8i8YLYijhBoMlK0NL23d9ZDrVFKYe4D9OBp0CCKzkz9a7qgLOoYvCGRzN7BXIztJkYzziFAYn4Ru0RTyHM81V8jp4H0E2EM7BDtUUBac/sk7pJS7w2rIRZtPDsFA7qFvw+1 dtnaas@a83afe25e688'\n",
    "\n",
    "client = Client(JANUS_URL, auth=(user, 'd3m0p4ss'))\n",
    "\n",
    "sess_rdma1 = client.getSession()\n",
    "srv1 = Service(instances=['nersc-tbn-6'], image='dtnaas/ofed:5.4-3',\n",
    "               profile='lbnl-400g-1', username=user, public_key=mykey)\n",
    "srv2 = Service(instances=['nersc-tbn-7'], image='dtnaas/ofed:5.4-3',\n",
    "               profile='lbnl-400g-2', username=user, public_key=mykey)\n",
    "sess_rdma1.addService(srv1)\n",
    "sess_rdma1.addService(srv2)\n",
    "\n",
    "sess_rdma2 = client.getSession()\n",
    "srv1 = Service(instances=['nersc-srv-1'], image='dtnaas/ofed:5.4-3',\n",
    "               profile='lbnl-400g-1', username=user, public_key=mykey)\n",
    "srv2 = Service(instances=['nersc-dtnaas-1'], image='dtnaas/ofed:5.4-3',\n",
    "               profile='lbnl-400g-2', username=user, public_key=mykey)\n",
    "sess_rdma2.addService(srv1)\n",
    "sess_rdma2.addService(srv2)\n",
    "\n",
    "sess_tcp = client.getSession()\n",
    "srv = Service(instances=['nersc-tbn-1', 'nersc-tbn-2'],\n",
    "              image='dtnaas/tools:latest',\n",
    "              profile='lbnl-400g-host',\n",
    "              username=user,\n",
    "              public_key=mykey)\n",
    "sess_tcp.addService(srv)\n",
    "\n",
    "print (f\"{sess_rdma1}\\n\\n{sess_rdma2}\\n\\n{sess_tcp}\")"
   ]
  },
  {
   "cell_type": "markdown",
   "id": "1f724bef-f18c-4477-a5a9-c123d822b3f3",
   "metadata": {
    "tags": []
   },
   "source": [
    "## DTN Service Startup\n",
    " * Start each session created in previous step\n",
    " * Check status\n",
    " * View endpoint information"
   ]
  },
  {
   "cell_type": "code",
   "execution_count": 8,
   "id": "bbff7b7f-bc85-4d33-bbf6-16cceee77203",
   "metadata": {},
   "outputs": [
    {
     "name": "stdout",
     "output_type": "stream",
     "text": [
      "id: 46, service: nersc-tbn-6, errors: []\n",
      "id: 46, service: nersc-tbn-7, errors: []\n",
      "\n",
      "id: 47, service: nersc-srv-1, errors: []\n",
      "id: 47, service: nersc-dtnaas-1, errors: []\n",
      "\n",
      "id: 48, service: nersc-tbn-1, errors: []\n",
      "id: 48, service: nersc-tbn-2, errors: []\n",
      "\n"
     ]
    }
   ],
   "source": [
    "res = sess_rdma1.start()\n",
    "print (sess_rdma1.status())\n",
    "\n",
    "res = sess_rdma2.start()\n",
    "print (sess_rdma2.status())\n",
    "\n",
    "res = sess_tcp.start()\n",
    "print (sess_tcp.status())"
   ]
  },
  {
   "cell_type": "code",
   "execution_count": 9,
   "id": "e43178a1-9887-4a9d-baa1-091f5dd0c481",
   "metadata": {},
   "outputs": [
    {
     "name": "stdout",
     "output_type": "stream",
     "text": [
      "-- RDMA Src Endpoints:\n",
      "nersc-tbn-6: nersc-tbn-6.testbed100.es.net:30000\n",
      "nersc-tbn-7: nersc-tbn-7.testbed100.es.net:30001\n",
      "-- RDMA Dst Endpoints:\n",
      "nersc-srv-1: nersc-srv-1.testbed100.es.net:30000\n",
      "nersc-dtnaas-1: nersc-dtnaas-1.testbed100.es.net:30001\n",
      "-- ESCP Endpoints:\n",
      "nersc-tbn-1: nersc-tbn-1.testbed100.es.net:30000\n",
      "nersc-tbn-2: nersc-tbn-2.testbed100.es.net:30001\n"
     ]
    }
   ],
   "source": [
    "print (f\"-- RDMA Src Endpoints:\\n{sess_rdma1.endpoints()}\")\n",
    "print (f\"-- RDMA Dst Endpoints:\\n{sess_rdma2.endpoints()}\")\n",
    "print (f\"-- ESCP Endpoints:\\n{sess_tcp.endpoints()}\")"
   ]
  },
  {
   "cell_type": "markdown",
   "id": "ad6b46b0-7953-44a8-98a9-fced379c9142",
   "metadata": {
    "tags": []
   },
   "source": [
    "## Demo job setup and execution\n",
    " * SC21 module to initialize and run jobs given provided Janus sessions"
   ]
  },
  {
   "cell_type": "code",
   "execution_count": 10,
   "id": "4111c121-30a1-4feb-b2b0-03bdf9ca77e1",
   "metadata": {},
   "outputs": [
    {
     "name": "stdout",
     "output_type": "stream",
     "text": [
      "[2021-11-17 13:20:09,250] INFO: Setting up environment on nersc-tbn-6\n",
      "[2021-11-17 13:20:11,203] INFO: Setting up environment on nersc-tbn-7\n",
      "[2021-11-17 13:20:14,934] INFO: Setting up environment on nersc-srv-1\n",
      "[2021-11-17 13:20:16,306] INFO: Setting up environment on nersc-dtnaas-1\n",
      "[2021-11-17 13:20:18,742] INFO: Setting up environment on nersc-tbn-1\n",
      "[2021-11-17 13:20:18,742] INFO: Setting up environment on nersc-tbn-2\n"
     ]
    }
   ],
   "source": [
    "# Perform some setup work on the remote containers\n",
    "setup(sess_rdma1)\n",
    "setup(sess_rdma2)\n",
    "setup(sess_tcp)"
   ]
  },
  {
   "cell_type": "code",
   "execution_count": 11,
   "id": "b7b327c2-2ab7-44ed-9e83-e5b3e188bced",
   "metadata": {
    "tags": []
   },
   "outputs": [
    {
     "data": {
      "application/vnd.jupyter.widget-view+json": {
       "model_id": "1f1e3bd0fc0545f6a6f24bf458393447",
       "version_major": 2,
       "version_minor": 0
      },
      "text/plain": [
       "Output()"
      ]
     },
     "metadata": {},
     "output_type": "display_data"
    }
   ],
   "source": [
    "# Run RDMA job one\n",
    "hndl_r1 = run_job(sess_rdma1)"
   ]
  },
  {
   "cell_type": "code",
   "execution_count": 12,
   "id": "6cdb8302-d467-4ad7-bb20-6f49abb52ef8",
   "metadata": {},
   "outputs": [
    {
     "data": {
      "application/vnd.jupyter.widget-view+json": {
       "model_id": "4c85892741574e54b0d1819b9842f5c9",
       "version_major": 2,
       "version_minor": 0
      },
      "text/plain": [
       "Output()"
      ]
     },
     "metadata": {},
     "output_type": "display_data"
    }
   ],
   "source": [
    "# Run RDMA job two\n",
    "hndl_r2 = run_job(sess_rdma2) "
   ]
  },
  {
   "cell_type": "code",
   "execution_count": 13,
   "id": "8e534227-e914-4c51-9568-22946fdafaf2",
   "metadata": {},
   "outputs": [
    {
     "data": {
      "application/vnd.jupyter.widget-view+json": {
       "model_id": "079a2d4b77c047fd84d7088bff88d5ef",
       "version_major": 2,
       "version_minor": 0
      },
      "text/plain": [
       "Output()"
      ]
     },
     "metadata": {},
     "output_type": "display_data"
    }
   ],
   "source": [
    "# Run TCP job\n",
    "hndl_t1 = run_job(sess_tcp)"
   ]
  },
  {
   "cell_type": "code",
   "execution_count": 10,
   "id": "a600a710-8f73-4e86-a55c-d78ce91d73ca",
   "metadata": {},
   "outputs": [
    {
     "name": "stdout",
     "output_type": "stream",
     "text": [
      "[2021-11-17 13:11:36,628] INFO: Stopped job\n",
      "[2021-11-17 13:11:36,953] INFO: Stopped job\n",
      "[2021-11-17 13:11:50,216] INFO: Stopped job\n"
     ]
    }
   ],
   "source": [
    "# Stop all job threads\n",
    "stop_job(sess_rdma1, hndl_r1)\n",
    "stop_job(sess_rdma2, hndl_r2)\n",
    "stop_job(sess_tcp, hndl_t1)"
   ]
  },
  {
   "cell_type": "markdown",
   "id": "0e3c4924-3c1b-450a-b69e-375e7b34b567",
   "metadata": {
    "tags": []
   },
   "source": [
    "## Janus stop and cleanup routines\n",
    " * It is possible to stop/start containers or destroy the sessions once workflow is complete"
   ]
  },
  {
   "cell_type": "code",
   "execution_count": 5,
   "id": "7b5a4d77-93cc-4893-84af-cd27bec5ff85",
   "metadata": {},
   "outputs": [],
   "source": [
    "sess_rdma1.stop()\n",
    "sess_rdma2.stop()\n",
    "sess_tcp.stop()"
   ]
  },
  {
   "cell_type": "code",
   "execution_count": 6,
   "id": "5b353183-c17e-461b-bfd8-3701949bc422",
   "metadata": {},
   "outputs": [],
   "source": [
    "sess_rdma1.destroy()\n",
    "sess_rdma2.destroy()\n",
    "sess_tcp.destroy()"
   ]
  },
  {
   "cell_type": "code",
   "execution_count": null,
   "id": "b3dbfc67-27cc-43cf-a6d0-b7d94e7b22f2",
   "metadata": {},
   "outputs": [],
   "source": []
  }
 ],
 "metadata": {
  "kernelspec": {
   "display_name": "Python 3",
   "language": "python",
   "name": "python3"
  },
  "language_info": {
   "codemirror_mode": {
    "name": "ipython",
    "version": 3
   },
   "file_extension": ".py",
   "mimetype": "text/x-python",
   "name": "python",
   "nbconvert_exporter": "python",
   "pygments_lexer": "ipython3",
   "version": "3.9.2"
  }
 },
 "nbformat": 4,
 "nbformat_minor": 5
}
