{
 "cells": [
  {
   "cell_type": "code",
   "execution_count": 1,
   "id": "f4c19c03-3094-4477-be18-099323c5d998",
   "metadata": {},
   "outputs": [
    {
     "name": "stdout",
     "output_type": "stream",
     "text": [
      "id: 1049044a-d727-4e0a-8568-762e8d270e0e\n",
      "allocated: False\n",
      "requests: [{'instances': ['nersc-tbn-6'], 'image': 'dtnaas/ofed:5.4-3', 'profile': 'lbnl-400g-1', 'kwargs': {'USER_NAME': 'kissel', 'PUBLIC_KEY': 'ssh-rsa AAAAB3NzaC1yc2EAAAADAQABAAABAQC/DAAkHubwAfjOSVG67tvwvUrESRoig+OAk5htH0mLK7QaN4gTv/C3ritJH3PkRzIJyOAJVS1ssjiBtMpI8Lb8NZCYKDZdpH/803cPpd2KqI2oAWRZQcjamKYs6SlM9r380wZ069r143ldaWPU3CJ6ye2+yx0Gifdivutnk5eQ1DxdK/VbukMzWeDdO8T1QXHxqP6lRy5PUkDKlY6Ec8i8YLYijhBoMlK0NL23d9ZDrVFKYe4D9OBp0CCKzkz9a7qgLOoYvCGRzN7BXIztJkYzziFAYn4Ru0RTyHM81V8jp4H0E2EM7BDtUUBac/sk7pJS7w2rIRZtPDsFA7qFvw+1 dtnaas@a83afe25e688'}}, {'instances': ['nersc-tbn-7'], 'image': 'dtnaas/ofed:5.4-3', 'profile': 'lbnl-400g-2', 'kwargs': {'USER_NAME': 'kissel', 'PUBLIC_KEY': 'ssh-rsa AAAAB3NzaC1yc2EAAAADAQABAAABAQC/DAAkHubwAfjOSVG67tvwvUrESRoig+OAk5htH0mLK7QaN4gTv/C3ritJH3PkRzIJyOAJVS1ssjiBtMpI8Lb8NZCYKDZdpH/803cPpd2KqI2oAWRZQcjamKYs6SlM9r380wZ069r143ldaWPU3CJ6ye2+yx0Gifdivutnk5eQ1DxdK/VbukMzWeDdO8T1QXHxqP6lRy5PUkDKlY6Ec8i8YLYijhBoMlK0NL23d9ZDrVFKYe4D9OBp0CCKzkz9a7qgLOoYvCGRzN7BXIztJkYzziFAYn4Ru0RTyHM81V8jp4H0E2EM7BDtUUBac/sk7pJS7w2rIRZtPDsFA7qFvw+1 dtnaas@a83afe25e688'}}]\n",
      "manifest: {}\n",
      "state: CREATED\n",
      "\n",
      "id: 1545b13c-6129-41f8-8944-376f1fca22e0\n",
      "allocated: False\n",
      "requests: [{'instances': ['nersc-srv-1'], 'image': 'dtnaas/ofed:5.4-3', 'profile': 'lbnl-400g-1', 'kwargs': {'USER_NAME': 'kissel', 'PUBLIC_KEY': 'ssh-rsa AAAAB3NzaC1yc2EAAAADAQABAAABAQC/DAAkHubwAfjOSVG67tvwvUrESRoig+OAk5htH0mLK7QaN4gTv/C3ritJH3PkRzIJyOAJVS1ssjiBtMpI8Lb8NZCYKDZdpH/803cPpd2KqI2oAWRZQcjamKYs6SlM9r380wZ069r143ldaWPU3CJ6ye2+yx0Gifdivutnk5eQ1DxdK/VbukMzWeDdO8T1QXHxqP6lRy5PUkDKlY6Ec8i8YLYijhBoMlK0NL23d9ZDrVFKYe4D9OBp0CCKzkz9a7qgLOoYvCGRzN7BXIztJkYzziFAYn4Ru0RTyHM81V8jp4H0E2EM7BDtUUBac/sk7pJS7w2rIRZtPDsFA7qFvw+1 dtnaas@a83afe25e688'}}, {'instances': ['nersc-dtnaas-1'], 'image': 'dtnaas/ofed:5.4-3', 'profile': 'lbnl-400g-2', 'kwargs': {'USER_NAME': 'kissel', 'PUBLIC_KEY': 'ssh-rsa AAAAB3NzaC1yc2EAAAADAQABAAABAQC/DAAkHubwAfjOSVG67tvwvUrESRoig+OAk5htH0mLK7QaN4gTv/C3ritJH3PkRzIJyOAJVS1ssjiBtMpI8Lb8NZCYKDZdpH/803cPpd2KqI2oAWRZQcjamKYs6SlM9r380wZ069r143ldaWPU3CJ6ye2+yx0Gifdivutnk5eQ1DxdK/VbukMzWeDdO8T1QXHxqP6lRy5PUkDKlY6Ec8i8YLYijhBoMlK0NL23d9ZDrVFKYe4D9OBp0CCKzkz9a7qgLOoYvCGRzN7BXIztJkYzziFAYn4Ru0RTyHM81V8jp4H0E2EM7BDtUUBac/sk7pJS7w2rIRZtPDsFA7qFvw+1 dtnaas@a83afe25e688'}}]\n",
      "manifest: {}\n",
      "state: CREATED\n",
      "\n",
      "id: 3ebe04cd-b7d2-41bb-b7ae-b09ecc99520e\n",
      "allocated: False\n",
      "requests: [{'instances': ['nersc-tbn-1', 'nersc-tbn-2'], 'image': 'dtnaas/tools:latest', 'profile': 'lbnl-400g-host', 'kwargs': {'USER_NAME': 'kissel', 'PUBLIC_KEY': 'ssh-rsa AAAAB3NzaC1yc2EAAAADAQABAAABAQC/DAAkHubwAfjOSVG67tvwvUrESRoig+OAk5htH0mLK7QaN4gTv/C3ritJH3PkRzIJyOAJVS1ssjiBtMpI8Lb8NZCYKDZdpH/803cPpd2KqI2oAWRZQcjamKYs6SlM9r380wZ069r143ldaWPU3CJ6ye2+yx0Gifdivutnk5eQ1DxdK/VbukMzWeDdO8T1QXHxqP6lRy5PUkDKlY6Ec8i8YLYijhBoMlK0NL23d9ZDrVFKYe4D9OBp0CCKzkz9a7qgLOoYvCGRzN7BXIztJkYzziFAYn4Ru0RTyHM81V8jp4H0E2EM7BDtUUBac/sk7pJS7w2rIRZtPDsFA7qFvw+1 dtnaas@a83afe25e688'}}]\n",
      "manifest: {}\n",
      "state: CREATED\n"
     ]
    }
   ],
   "source": [
    "import time\n",
    "from janus_client import Client, Session, Service\n",
    "from SC21Demo import setup, run_job, stop_job\n",
    "\n",
    "\n",
    "JANUS_URL=\"https://nersc-srv-1.testbed100.es.net:5050\"\n",
    "\n",
    "user = 'kissel'\n",
    "mykey = 'ssh-rsa AAAAB3NzaC1yc2EAAAADAQABAAABAQC/DAAkHubwAfjOSVG67tvwvUrESRoig+OAk5htH0mLK7QaN4gTv/C3ritJH3PkRzIJyOAJVS1ssjiBtMpI8Lb8NZCYKDZdpH/803cPpd2KqI2oAWRZQcjamKYs6SlM9r380wZ069r143ldaWPU3CJ6ye2+yx0Gifdivutnk5eQ1DxdK/VbukMzWeDdO8T1QXHxqP6lRy5PUkDKlY6Ec8i8YLYijhBoMlK0NL23d9ZDrVFKYe4D9OBp0CCKzkz9a7qgLOoYvCGRzN7BXIztJkYzziFAYn4Ru0RTyHM81V8jp4H0E2EM7BDtUUBac/sk7pJS7w2rIRZtPDsFA7qFvw+1 dtnaas@a83afe25e688'\n",
    "\n",
    "client = Client(JANUS_URL, auth=(user, 'd3m0p4ss'))\n",
    "\n",
    "\n",
    "sess_rdma1 = client.getSession()\n",
    "srv1 = Service(instances=['nersc-tbn-6'], image='dtnaas/ofed:5.4-3', profile='lbnl-400g-1', username=user, public_key=mykey)\n",
    "srv2 = Service(instances=['nersc-tbn-7'], image='dtnaas/ofed:5.4-3', profile='lbnl-400g-2', username=user, public_key=mykey)\n",
    "sess_rdma1.addService(srv1)\n",
    "sess_rdma1.addService(srv2)\n",
    "\n",
    "\n",
    "sess_rdma2 = client.getSession()\n",
    "srv1 = Service(instances=['nersc-srv-1'], image='dtnaas/ofed:5.4-3', profile='lbnl-400g-1', username=user, public_key=mykey)\n",
    "srv2 = Service(instances=['nersc-dtnaas-1'], image='dtnaas/ofed:5.4-3', profile='lbnl-400g-2', username=user, public_key=mykey)\n",
    "sess_rdma2.addService(srv1)\n",
    "sess_rdma2.addService(srv2)\n",
    "\n",
    "sess_tcp = client.getSession()\n",
    "srv = Service(instances=['nersc-tbn-1', 'nersc-tbn-2'],\n",
    "              image='dtnaas/tools:latest',\n",
    "              profile='lbnl-400g-host',\n",
    "              username=user,\n",
    "              public_key=mykey)\n",
    "sess_tcp.addService(srv)\n",
    "\n",
    "print (f\"{sess_rdma1}\\n\\n{sess_rdma2}\\n\\n{sess_tcp}\")\n"
   ]
  },
  {
   "cell_type": "code",
   "execution_count": 2,
   "id": "bbff7b7f-bc85-4d33-bbf6-16cceee77203",
   "metadata": {},
   "outputs": [
    {
     "name": "stdout",
     "output_type": "stream",
     "text": [
      "id: 46, service: nersc-tbn-6, errors: []\n",
      "id: 46, service: nersc-tbn-7, errors: []\n",
      "\n",
      "id: 47, service: nersc-srv-1, errors: []\n",
      "id: 47, service: nersc-dtnaas-1, errors: []\n",
      "\n",
      "id: 48, service: nersc-tbn-1, errors: []\n",
      "id: 48, service: nersc-tbn-2, errors: []\n",
      "\n"
     ]
    }
   ],
   "source": [
    "res = sess_rdma1.start()\n",
    "print (sess_rdma1.status())\n",
    "\n",
    "res = sess_rdma2.start()\n",
    "print (sess_rdma2.status())\n",
    "\n",
    "res = sess_tcp.start()\n",
    "print (sess_tcp.status())"
   ]
  },
  {
   "cell_type": "code",
   "execution_count": 3,
   "id": "e43178a1-9887-4a9d-baa1-091f5dd0c481",
   "metadata": {},
   "outputs": [
    {
     "name": "stdout",
     "output_type": "stream",
     "text": [
      "-- RDMA Src Endpoints:\n",
      "nersc-tbn-6: nersc-tbn-6.testbed100.es.net:30000\n",
      "nersc-tbn-7: nersc-tbn-7.testbed100.es.net:30001\n",
      "-- RDMA Dst Endpoints:\n",
      "nersc-srv-1: nersc-srv-1.testbed100.es.net:30000\n",
      "nersc-dtnaas-1: nersc-dtnaas-1.testbed100.es.net:30001\n",
      "-- ESCP Endpoints:\n",
      "nersc-tbn-1: nersc-tbn-1.testbed100.es.net:30000\n",
      "nersc-tbn-2: nersc-tbn-2.testbed100.es.net:30001\n"
     ]
    }
   ],
   "source": [
    "print (f\"-- RDMA Src Endpoints:\\n{sess_rdma1.endpoints()}\")\n",
    "print (f\"-- RDMA Dst Endpoints:\\n{sess_rdma2.endpoints()}\")\n",
    "print (f\"-- ESCP Endpoints:\\n{sess_tcp.endpoints()}\")"
   ]
  },
  {
   "cell_type": "code",
   "execution_count": 4,
   "id": "4111c121-30a1-4feb-b2b0-03bdf9ca77e1",
   "metadata": {},
   "outputs": [
    {
     "name": "stdout",
     "output_type": "stream",
     "text": [
      "[2021-11-16 23:10:06,177] INFO: Setting up environment on nersc-tbn-6\n",
      "[2021-11-16 23:10:08,119] INFO: Setting up environment on nersc-tbn-7\n",
      "[2021-11-16 23:10:10,665] INFO: Setting up environment on nersc-srv-1\n",
      "[2021-11-16 23:10:12,536] INFO: Setting up environment on nersc-dtnaas-1\n",
      "[2021-11-16 23:10:14,950] INFO: Setting up environment on nersc-tbn-1\n",
      "[2021-11-16 23:10:14,951] INFO: Setting up environment on nersc-tbn-2\n"
     ]
    }
   ],
   "source": [
    "setup(sess_rdma1)\n",
    "setup(sess_rdma2)\n",
    "setup(sess_tcp)"
   ]
  },
  {
   "cell_type": "code",
   "execution_count": 5,
   "id": "b7b327c2-2ab7-44ed-9e83-e5b3e188bced",
   "metadata": {
    "tags": []
   },
   "outputs": [
    {
     "data": {
      "application/vnd.jupyter.widget-view+json": {
       "model_id": "01fca334e6604af58fe28297482b078b",
       "version_major": 2,
       "version_minor": 0
      },
      "text/plain": [
       "Output()"
      ]
     },
     "metadata": {},
     "output_type": "display_data"
    }
   ],
   "source": [
    "hndl_r1 = run_job(sess_rdma1)"
   ]
  },
  {
   "cell_type": "code",
   "execution_count": 6,
   "id": "6cdb8302-d467-4ad7-bb20-6f49abb52ef8",
   "metadata": {},
   "outputs": [
    {
     "data": {
      "application/vnd.jupyter.widget-view+json": {
       "model_id": "a1a3f6c70e5f4ae998d230334427ffd4",
       "version_major": 2,
       "version_minor": 0
      },
      "text/plain": [
       "Output()"
      ]
     },
     "metadata": {},
     "output_type": "display_data"
    }
   ],
   "source": [
    "hndl_r2 = run_job(sess_rdma2) "
   ]
  },
  {
   "cell_type": "code",
   "execution_count": 7,
   "id": "8e534227-e914-4c51-9568-22946fdafaf2",
   "metadata": {},
   "outputs": [
    {
     "data": {
      "application/vnd.jupyter.widget-view+json": {
       "model_id": "7ea827eee0e04cafad191647d1f7091f",
       "version_major": 2,
       "version_minor": 0
      },
      "text/plain": [
       "Output()"
      ]
     },
     "metadata": {},
     "output_type": "display_data"
    }
   ],
   "source": [
    "hndl_t1 = run_job(sess_tcp)"
   ]
  },
  {
   "cell_type": "code",
   "execution_count": null,
   "id": "a600a710-8f73-4e86-a55c-d78ce91d73ca",
   "metadata": {},
   "outputs": [],
   "source": [
    "stop_job(sess_rdma1, hndl_r1)\n",
    "stop_job(sess_rdma2, hndl_r2)\n",
    "stop_job(sess_tcp, hndl_t1)"
   ]
  },
  {
   "cell_type": "code",
   "execution_count": null,
   "id": "7b5a4d77-93cc-4893-84af-cd27bec5ff85",
   "metadata": {},
   "outputs": [],
   "source": [
    "sess_rdma1.stop()\n",
    "sess_rdma2.stop()\n",
    "sess_tcp.stop()"
   ]
  },
  {
   "cell_type": "code",
   "execution_count": 178,
   "id": "5b353183-c17e-461b-bfd8-3701949bc422",
   "metadata": {},
   "outputs": [],
   "source": [
    "sess_rdma1.destroy()\n",
    "sess_rdma2.destroy()\n",
    "sess_tcp.destroy()"
   ]
  },
  {
   "cell_type": "code",
   "execution_count": null,
   "id": "9e67b34e-39e5-4a6d-9518-cd218d8150b7",
   "metadata": {},
   "outputs": [],
   "source": []
  }
 ],
 "metadata": {
  "kernelspec": {
   "display_name": "Python 3",
   "language": "python",
   "name": "python3"
  },
  "language_info": {
   "codemirror_mode": {
    "name": "ipython",
    "version": 3
   },
   "file_extension": ".py",
   "mimetype": "text/x-python",
   "name": "python",
   "nbconvert_exporter": "python",
   "pygments_lexer": "ipython3",
   "version": "3.9.2"
  }
 },
 "nbformat": 4,
 "nbformat_minor": 5
}
