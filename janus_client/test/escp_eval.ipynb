{
 "cells": [
  {
   "cell_type": "markdown",
   "id": "ad38e507-853a-4fe2-b9ce-db2bb1e8e412",
   "metadata": {
    "tags": []
   },
   "source": [
    "## Initialization\n",
    " * Import Janus Client modules\n",
    " * Setup client parameter (controller URL, user, ssh key, etc.)\n",
    " * Create a client instance\n",
    " * Create sessions for each demo job\n",
    " * Attach services to each session (host/container/profile mapping)"
   ]
  },
  {
   "cell_type": "markdown",
   "id": "f7b29472-ce81-4158-b0c9-02f042a35ad9",
   "metadata": {
    "tags": []
   },
   "source": [
    "### Profile definition example\n",
    " * Testing with various profiles for bridge, host, sriov, and macvlan networks.\n",
    " * These, along with other profiles, are maintained on the Janus controller node\n",
    "  \n",
    "```yaml\n",
    "\n",
    "```"
   ]
  },
  {
   "cell_type": "code",
   "execution_count": 55,
   "id": "f4c19c03-3094-4477-be18-099323c5d998",
   "metadata": {},
   "outputs": [
    {
     "name": "stdout",
     "output_type": "stream",
     "text": [
      "The autoreload extension is already loaded. To reload it, use:\n",
      "  %reload_ext autoreload\n",
      "\n",
      "Available LBNL profiles:\n",
      "['lbnl-400g-1', 'lbnl-400g-2', 'lbnl-400g-host', 'lbnl', 'lbnl-host', 'lbnl-bridge', 'lbnl-macvlan', 'lbnl-sriov', 'lbnl-rdma']\n",
      "\n",
      "\n",
      "id: e954027b-f8d0-499d-8e11-f2a0c0fdea90\n",
      "allocated: False\n",
      "requests: [{'instances': ['nersc-dtnaas-1'], 'image': 'dtnaas/tools', 'profile': 'lbnl-host', 'kwargs': {'USER_NAME': 'admin', 'PUBLIC_KEY': 'ssh-rsa AAAAB3NzaC1yc2EAAAADAQABAAABAQC/DAAkHubwAfjOSVG67tvwvUrESRoig+OAk5htH0mLK7QaN4gTv/C3ritJH3PkRzIJyOAJVS1ssjiBtMpI8Lb8NZCYKDZdpH/803cPpd2KqI2oAWRZQcjamKYs6SlM9r380wZ069r143ldaWPU3CJ6ye2+yx0Gifdivutnk5eQ1DxdK/VbukMzWeDdO8T1QXHxqP6lRy5PUkDKlY6Ec8i8YLYijhBoMlK0NL23d9ZDrVFKYe4D9OBp0CCKzkz9a7qgLOoYvCGRzN7BXIztJkYzziFAYn4Ru0RTyHM81V8jp4H0E2EM7BDtUUBac/sk7pJS7w2rIRZtPDsFA7qFvw+1 dtnaas@a83afe25e688'}}, {'instances': ['nersc-tbn-10'], 'image': 'dtnaas/tools', 'profile': 'lbnl-host', 'kwargs': {'USER_NAME': 'admin', 'PUBLIC_KEY': 'ssh-rsa AAAAB3NzaC1yc2EAAAADAQABAAABAQC/DAAkHubwAfjOSVG67tvwvUrESRoig+OAk5htH0mLK7QaN4gTv/C3ritJH3PkRzIJyOAJVS1ssjiBtMpI8Lb8NZCYKDZdpH/803cPpd2KqI2oAWRZQcjamKYs6SlM9r380wZ069r143ldaWPU3CJ6ye2+yx0Gifdivutnk5eQ1DxdK/VbukMzWeDdO8T1QXHxqP6lRy5PUkDKlY6Ec8i8YLYijhBoMlK0NL23d9ZDrVFKYe4D9OBp0CCKzkz9a7qgLOoYvCGRzN7BXIztJkYzziFAYn4Ru0RTyHM81V8jp4H0E2EM7BDtUUBac/sk7pJS7w2rIRZtPDsFA7qFvw+1 dtnaas@a83afe25e688'}}]\n",
      "manifest: {}\n",
      "state: CREATED\n",
      "\n"
     ]
    }
   ],
   "source": [
    "%load_ext autoreload\n",
    "%autoreload 2\n",
    "\n",
    "import time\n",
    "import json\n",
    "from janus_client import Client, Session, Service\n",
    "from ESCPeval import setup, run_job, stop_job\n",
    "\n",
    "# Evaluation specific vars\n",
    "SRC_HOST=\"nersc-tbn-10\"\n",
    "DST_HOST=\"nersc-dtnaas-1\"\n",
    "TAG=\"host\"\n",
    "ITERS=1\n",
    "\n",
    "# Janus setup\n",
    "JANUS_URL=\"https://nersc-srv-1.testbed100.es.net:5000\"\n",
    "\n",
    "user = 'admin'\n",
    "passwd = 'admin'\n",
    "keypath = '~/.ssh/id_rsa_jupyter'\n",
    "mypubkey = 'ssh-rsa AAAAB3NzaC1yc2EAAAADAQABAAABAQC/DAAkHubwAfjOSVG67tvwvUrESRoig+OAk5htH0mLK7QaN4gTv/C3ritJH3PkRzIJyOAJVS1ssjiBtMpI8Lb8NZCYKDZdpH/803cPpd2KqI2oAWRZQcjamKYs6SlM9r380wZ069r143ldaWPU3CJ6ye2+yx0Gifdivutnk5eQ1DxdK/VbukMzWeDdO8T1QXHxqP6lRy5PUkDKlY6Ec8i8YLYijhBoMlK0NL23d9ZDrVFKYe4D9OBp0CCKzkz9a7qgLOoYvCGRzN7BXIztJkYzziFAYn4Ru0RTyHM81V8jp4H0E2EM7BDtUUBac/sk7pJS7w2rIRZtPDsFA7qFvw+1 dtnaas@a83afe25e688'\n",
    "\n",
    "client = Client(JANUS_URL, auth=(user, passwd))\n",
    "\n",
    "print (\"\\nAvailable LBNL profiles:\")\n",
    "print ([x['name'] for x in client.profiles().json() if x['name'].startswith(\"lbnl\")])\n",
    "print (\"\\n\")\n",
    "\n",
    "sess_escp = client.getSession()\n",
    "srv1 = Service(instances=[DST_HOST], image='dtnaas/tools',\n",
    "               profile=f'lbnl-{TAG}', username=user, public_key=mypubkey)\n",
    "srv2 = Service(instances=[SRC_HOST], image='dtnaas/tools',\n",
    "               profile=f'lbnl-{TAG}', username=user, public_key=mypubkey)\n",
    "sess_escp.addService(srv1)\n",
    "sess_escp.addService(srv2)\n",
    "\n",
    "\n",
    "print (f\"{sess_escp}\\n\")"
   ]
  },
  {
   "cell_type": "markdown",
   "id": "1f724bef-f18c-4477-a5a9-c123d822b3f3",
   "metadata": {
    "tags": []
   },
   "source": [
    "## DTN Service Startup\n",
    " * Start each session created in previous step\n",
    " * Check status\n",
    " * View endpoint information"
   ]
  },
  {
   "cell_type": "code",
   "execution_count": 56,
   "id": "bbff7b7f-bc85-4d33-bbf6-16cceee77203",
   "metadata": {},
   "outputs": [
    {
     "name": "stdout",
     "output_type": "stream",
     "text": [
      "id: 49, service: nersc-dtnaas-1, errors: []\n",
      "id: 49, service: nersc-tbn-10, errors: []\n",
      "\n"
     ]
    }
   ],
   "source": [
    "res = sess_escp.start()\n",
    "print (sess_escp.status())"
   ]
  },
  {
   "cell_type": "code",
   "execution_count": 57,
   "id": "e43178a1-9887-4a9d-baa1-091f5dd0c481",
   "metadata": {},
   "outputs": [
    {
     "name": "stdout",
     "output_type": "stream",
     "text": [
      "-- Sess Endpoints:\n",
      "nersc-dtnaas-1: nersc-dtnaas-1.testbed100.es.net:4097\n",
      "nersc-tbn-10: nersc-tbn-10:4096\n"
     ]
    }
   ],
   "source": [
    "print (f\"-- Sess Endpoints:\\n{sess_escp.endpoints()}\")"
   ]
  },
  {
   "cell_type": "markdown",
   "id": "ad6b46b0-7953-44a8-98a9-fced379c9142",
   "metadata": {
    "tags": []
   },
   "source": [
    "## Demo job setup and execution\n",
    " * ESCPeval module to initialize and run jobs given provided Janus sessions"
   ]
  },
  {
   "cell_type": "code",
   "execution_count": 78,
   "id": "4111c121-30a1-4feb-b2b0-03bdf9ca77e1",
   "metadata": {},
   "outputs": [
    {
     "name": "stdout",
     "output_type": "stream",
     "text": [
      "[2022-11-15 12:00:27,117] INFO: Setting up environment on nersc-dtnaas-1\n",
      "[2022-11-15 12:00:32,734] INFO: Setting up environment on nersc-tbn-10\n"
     ]
    }
   ],
   "source": [
    "# Perform some setup work on the remote containers\n",
    "from ESCPeval import setup, run_job, stop_job\n",
    "sess_escp.user = user\n",
    "sess_escp.keypath = keypath\n",
    "setup(sess_escp)"
   ]
  },
  {
   "cell_type": "code",
   "execution_count": null,
   "id": "b7b327c2-2ab7-44ed-9e83-e5b3e188bced",
   "metadata": {
    "tags": []
   },
   "outputs": [
    {
     "data": {
      "application/vnd.jupyter.widget-view+json": {
       "model_id": "4927b9891d4747a0a59077edccc6791a",
       "version_major": 2,
       "version_minor": 0
      },
      "text/plain": [
       "Output()"
      ]
     },
     "metadata": {},
     "output_type": "display_data"
    }
   ],
   "source": [
    "from ESCPeval import setup, run_job, stop_job\n",
    "# Run ESCPeval jobs\n",
    "# EScp arguments will change depending on the Janus profile used for container networking\n",
    "# TODO: parse this out of the Janus profile and node info\n",
    "# prof = client.profiles().json().get(f\"lbnl-macvlan\")\n",
    "# print (prof)\n",
    "\n",
    "# Host network example below for tbn-6,7\n",
    "escp_args = {\"src\": \"10.10.2.21\",\n",
    "#             \"src_port\": 22,      # we can override EScp ssh port numbers learned from Janus session\n",
    "             \"dst\": \"10.10.2.20\",\n",
    "#             \"dst_port\": 22,      # we can override EScp ssh port numbers learned from Janus session\n",
    "             \"iters\": 1,\n",
    "             \"tag\": \"host\"}\n",
    "\n",
    "ret = run_job(sess_escp, SRC_HOST, **escp_args)"
   ]
  },
  {
   "cell_type": "markdown",
   "id": "0e3c4924-3c1b-450a-b69e-375e7b34b567",
   "metadata": {
    "tags": []
   },
   "source": [
    "## Janus stop and cleanup routines\n",
    " * It is possible to stop/start containers or destroy the sessions once workflow is complete"
   ]
  },
  {
   "cell_type": "code",
   "execution_count": 52,
   "id": "7b5a4d77-93cc-4893-84af-cd27bec5ff85",
   "metadata": {},
   "outputs": [],
   "source": [
    "sess_escp.stop()"
   ]
  },
  {
   "cell_type": "code",
   "execution_count": 53,
   "id": "5b353183-c17e-461b-bfd8-3701949bc422",
   "metadata": {},
   "outputs": [],
   "source": [
    "sess_escp.destroy()"
   ]
  },
  {
   "cell_type": "code",
   "execution_count": null,
   "id": "b3dbfc67-27cc-43cf-a6d0-b7d94e7b22f2",
   "metadata": {},
   "outputs": [],
   "source": []
  }
 ],
 "metadata": {
  "kernelspec": {
   "display_name": "Python 3",
   "language": "python",
   "name": "python3"
  },
  "language_info": {
   "codemirror_mode": {
    "name": "ipython",
    "version": 3
   },
   "file_extension": ".py",
   "mimetype": "text/x-python",
   "name": "python",
   "nbconvert_exporter": "python",
   "pygments_lexer": "ipython3",
   "version": "3.9.2"
  }
 },
 "nbformat": 4,
 "nbformat_minor": 5
}
